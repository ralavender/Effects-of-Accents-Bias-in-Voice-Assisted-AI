{
  "cells": [
    {
      "cell_type": "markdown",
      "metadata": {
        "id": "view-in-github",
        "colab_type": "text"
      },
      "source": [
        "<a href=\"https://colab.research.google.com/github/ralavender/Effects-of-Accents-Bias-in-Voice-Assisted-AI/blob/main/English.ipynb\" target=\"_parent\"><img src=\"https://colab.research.google.com/assets/colab-badge.svg\" alt=\"Open In Colab\"/></a>"
      ]
    },
    {
      "cell_type": "code",
      "execution_count": null,
      "id": "bfc99871-dbca-4c7f-9872-1455dc8a29c0",
      "metadata": {
        "tags": [],
        "id": "bfc99871-dbca-4c7f-9872-1455dc8a29c0"
      },
      "outputs": [],
      "source": [
        "import pandas as pd"
      ]
    },
    {
      "cell_type": "code",
      "execution_count": null,
      "id": "44fbcc77-9975-4028-acc5-2539315422b1",
      "metadata": {
        "tags": [],
        "id": "44fbcc77-9975-4028-acc5-2539315422b1"
      },
      "outputs": [],
      "source": [
        "df = pd.read_csv(\"~/Desktop/data120/cv-corpus-19.0-delta-2024-09-13-en/cv-corpus-19.0-delta-2024-09-13/en/other.tsv\", sep=\"\\t\")\n",
        "\n",
        "print(df.shape)\n",
        "df.head()"
      ]
    },
    {
      "cell_type": "code",
      "execution_count": null,
      "id": "073e3c14-74d6-46cd-9bac-9c6606f2a703",
      "metadata": {
        "tags": [],
        "id": "073e3c14-74d6-46cd-9bac-9c6606f2a703"
      },
      "outputs": [],
      "source": [
        "english = df[df.accents.str.contains(\"English\", case=False, na=False)]\n",
        "\n",
        "print(english.shape)\n",
        "english.head()"
      ]
    },
    {
      "cell_type": "code",
      "execution_count": null,
      "id": "8b642e4b-aa2a-432a-93c5-5752226253dc",
      "metadata": {
        "tags": [],
        "id": "8b642e4b-aa2a-432a-93c5-5752226253dc"
      },
      "outputs": [],
      "source": [
        "english.accents.value_counts()"
      ]
    },
    {
      "cell_type": "code",
      "execution_count": null,
      "id": "c25d0f55-a49d-4879-92ee-6c8865ab2ec6",
      "metadata": {
        "tags": [],
        "id": "c25d0f55-a49d-4879-92ee-6c8865ab2ec6",
        "outputId": "6766ada0-bbab-4e6b-9a1b-d10345f6b816"
      },
      "outputs": [
        {
          "name": "stdout",
          "output_type": "stream",
          "text": [
            "(3384, 13)\n"
          ]
        },
        {
          "data": {
            "text/html": [
              "<div>\n",
              "<style scoped>\n",
              "    .dataframe tbody tr th:only-of-type {\n",
              "        vertical-align: middle;\n",
              "    }\n",
              "\n",
              "    .dataframe tbody tr th {\n",
              "        vertical-align: top;\n",
              "    }\n",
              "\n",
              "    .dataframe thead th {\n",
              "        text-align: right;\n",
              "    }\n",
              "</style>\n",
              "<table border=\"1\" class=\"dataframe\">\n",
              "  <thead>\n",
              "    <tr style=\"text-align: right;\">\n",
              "      <th></th>\n",
              "      <th>client_id</th>\n",
              "      <th>path</th>\n",
              "      <th>sentence_id</th>\n",
              "      <th>sentence</th>\n",
              "      <th>sentence_domain</th>\n",
              "      <th>up_votes</th>\n",
              "      <th>down_votes</th>\n",
              "      <th>age</th>\n",
              "      <th>gender</th>\n",
              "      <th>accents</th>\n",
              "      <th>variant</th>\n",
              "      <th>locale</th>\n",
              "      <th>segment</th>\n",
              "    </tr>\n",
              "  </thead>\n",
              "  <tbody>\n",
              "    <tr>\n",
              "      <th>0</th>\n",
              "      <td>191ee24977127424a5ac34a754b12170b36bd23863cbda...</td>\n",
              "      <td>common_voice_en_40865211.mp3</td>\n",
              "      <td>ee71e29300d6bf97715142b1ddfeb9a46f27cb0ff4f580...</td>\n",
              "      <td>With this transition to the big time, the band...</td>\n",
              "      <td>NaN</td>\n",
              "      <td>0</td>\n",
              "      <td>0</td>\n",
              "      <td>NaN</td>\n",
              "      <td>NaN</td>\n",
              "      <td>United States English</td>\n",
              "      <td>NaN</td>\n",
              "      <td>en</td>\n",
              "      <td>NaN</td>\n",
              "    </tr>\n",
              "    <tr>\n",
              "      <th>1</th>\n",
              "      <td>191ee24977127424a5ac34a754b12170b36bd23863cbda...</td>\n",
              "      <td>common_voice_en_40865212.mp3</td>\n",
              "      <td>ee6a9d5da68a933995ee3fc7fe679e019df35295ce24a2...</td>\n",
              "      <td>Local brothels recruited extra staff to cope w...</td>\n",
              "      <td>NaN</td>\n",
              "      <td>0</td>\n",
              "      <td>0</td>\n",
              "      <td>NaN</td>\n",
              "      <td>NaN</td>\n",
              "      <td>United States English</td>\n",
              "      <td>NaN</td>\n",
              "      <td>en</td>\n",
              "      <td>NaN</td>\n",
              "    </tr>\n",
              "    <tr>\n",
              "      <th>2</th>\n",
              "      <td>191ee24977127424a5ac34a754b12170b36bd23863cbda...</td>\n",
              "      <td>common_voice_en_40865213.mp3</td>\n",
              "      <td>ee79622517bc43e5958b41951c455320ae6588f5142448...</td>\n",
              "      <td>With Fox on lead vocals, the threesome did two...</td>\n",
              "      <td>NaN</td>\n",
              "      <td>0</td>\n",
              "      <td>0</td>\n",
              "      <td>NaN</td>\n",
              "      <td>NaN</td>\n",
              "      <td>United States English</td>\n",
              "      <td>NaN</td>\n",
              "      <td>en</td>\n",
              "      <td>NaN</td>\n",
              "    </tr>\n",
              "    <tr>\n",
              "      <th>3</th>\n",
              "      <td>191ee24977127424a5ac34a754b12170b36bd23863cbda...</td>\n",
              "      <td>common_voice_en_40865214.mp3</td>\n",
              "      <td>ee67248663e5c083e777259bc983427e3a36f168b16768...</td>\n",
              "      <td>Miramax requested cuts be made and Christopher...</td>\n",
              "      <td>NaN</td>\n",
              "      <td>0</td>\n",
              "      <td>0</td>\n",
              "      <td>NaN</td>\n",
              "      <td>NaN</td>\n",
              "      <td>United States English</td>\n",
              "      <td>NaN</td>\n",
              "      <td>en</td>\n",
              "      <td>NaN</td>\n",
              "    </tr>\n",
              "    <tr>\n",
              "      <th>4</th>\n",
              "      <td>191ee24977127424a5ac34a754b12170b36bd23863cbda...</td>\n",
              "      <td>common_voice_en_40865215.mp3</td>\n",
              "      <td>ee7187768850017c14addbcb48664c31a2ee162f3a089f...</td>\n",
              "      <td>The Key allows customers to buy Plusbus for th...</td>\n",
              "      <td>NaN</td>\n",
              "      <td>0</td>\n",
              "      <td>0</td>\n",
              "      <td>NaN</td>\n",
              "      <td>NaN</td>\n",
              "      <td>United States English</td>\n",
              "      <td>NaN</td>\n",
              "      <td>en</td>\n",
              "      <td>NaN</td>\n",
              "    </tr>\n",
              "  </tbody>\n",
              "</table>\n",
              "</div>"
            ],
            "text/plain": [
              "                                           client_id  \\\n",
              "0  191ee24977127424a5ac34a754b12170b36bd23863cbda...   \n",
              "1  191ee24977127424a5ac34a754b12170b36bd23863cbda...   \n",
              "2  191ee24977127424a5ac34a754b12170b36bd23863cbda...   \n",
              "3  191ee24977127424a5ac34a754b12170b36bd23863cbda...   \n",
              "4  191ee24977127424a5ac34a754b12170b36bd23863cbda...   \n",
              "\n",
              "                           path  \\\n",
              "0  common_voice_en_40865211.mp3   \n",
              "1  common_voice_en_40865212.mp3   \n",
              "2  common_voice_en_40865213.mp3   \n",
              "3  common_voice_en_40865214.mp3   \n",
              "4  common_voice_en_40865215.mp3   \n",
              "\n",
              "                                         sentence_id  \\\n",
              "0  ee71e29300d6bf97715142b1ddfeb9a46f27cb0ff4f580...   \n",
              "1  ee6a9d5da68a933995ee3fc7fe679e019df35295ce24a2...   \n",
              "2  ee79622517bc43e5958b41951c455320ae6588f5142448...   \n",
              "3  ee67248663e5c083e777259bc983427e3a36f168b16768...   \n",
              "4  ee7187768850017c14addbcb48664c31a2ee162f3a089f...   \n",
              "\n",
              "                                            sentence sentence_domain  \\\n",
              "0  With this transition to the big time, the band...             NaN   \n",
              "1  Local brothels recruited extra staff to cope w...             NaN   \n",
              "2  With Fox on lead vocals, the threesome did two...             NaN   \n",
              "3  Miramax requested cuts be made and Christopher...             NaN   \n",
              "4  The Key allows customers to buy Plusbus for th...             NaN   \n",
              "\n",
              "   up_votes  down_votes  age gender                accents  variant locale  \\\n",
              "0         0           0  NaN    NaN  United States English      NaN     en   \n",
              "1         0           0  NaN    NaN  United States English      NaN     en   \n",
              "2         0           0  NaN    NaN  United States English      NaN     en   \n",
              "3         0           0  NaN    NaN  United States English      NaN     en   \n",
              "4         0           0  NaN    NaN  United States English      NaN     en   \n",
              "\n",
              "   segment  \n",
              "0      NaN  \n",
              "1      NaN  \n",
              "2      NaN  \n",
              "3      NaN  \n",
              "4      NaN  "
            ]
          },
          "execution_count": 5,
          "metadata": {},
          "output_type": "execute_result"
        }
      ],
      "source": [
        "mask = (english.accents == \"United States English\")\n",
        "\n",
        "us_english = english[mask]\n",
        "\n",
        "print(us_english.shape)\n",
        "us_english.head()"
      ]
    },
    {
      "cell_type": "code",
      "source": [
        "us_english.gender"
      ],
      "metadata": {
        "id": "ut-dq-SCae-5"
      },
      "id": "ut-dq-SCae-5",
      "execution_count": null,
      "outputs": []
    },
    {
      "cell_type": "code",
      "execution_count": null,
      "id": "b894473f-6f0f-4cfe-ba85-1b048b1efa1c",
      "metadata": {
        "tags": [],
        "id": "b894473f-6f0f-4cfe-ba85-1b048b1efa1c",
        "outputId": "e31efbcb-c7a9-4255-8ae1-03cea8125f02"
      },
      "outputs": [
        {
          "name": "stdout",
          "output_type": "stream",
          "text": [
            " With Fox on lead vocals, the three-sympti two short tours in Europe.\n"
          ]
        }
      ],
      "source": [
        "## import whisper\n",
        "import whisper\n",
        "\n",
        "# Load the Whisper model\n",
        "model = whisper.load_model(\"base\")  # You can choose \"tiny\", \"base\", \"small\", \"medium\", or \"large\"\n",
        "\n",
        "# Transcribe audio\n",
        "result = model.transcribe(\"C:/Users/ral/Desktop/data120/cv-corpus-19.0-delta-2024-09-13-en/cv-corpus-19.0-delta-2024-09-13/en/clips/common_voice_en_40865213.mp3\")  # Replace with your audio file path\n",
        "\n",
        "# Print the transcription\n",
        "print(result[\"text\"])\n"
      ]
    },
    {
      "cell_type": "code",
      "execution_count": null,
      "id": "c7f60910-3295-450b-a9b8-688409348977",
      "metadata": {
        "tags": [],
        "id": "c7f60910-3295-450b-a9b8-688409348977"
      },
      "outputs": [],
      "source": [
        "base_path = \"C:/Users/ral/Desktop/data120/cv-corpus-19.0-delta-2024-09-13-en/cv-corpus-19.0-delta-2024-09-13/en/clips/\"\n",
        "\n",
        "us_english['full_path'] = base_path + us_english['path']\n",
        "\n",
        "file_list = us_english['full_path'].tolist()"
      ]
    },
    {
      "cell_type": "code",
      "execution_count": null,
      "id": "54e99375-4259-4716-8f81-b701c8fdc1b7",
      "metadata": {
        "tags": [],
        "id": "54e99375-4259-4716-8f81-b701c8fdc1b7"
      },
      "outputs": [],
      "source": [
        "import pandas as pd\n",
        "import whisper\n",
        "from jiwer import wer, cer\n",
        "import json\n",
        "\n",
        "# Load Whisper model\n",
        "model = whisper.load_model(\"base\")\n",
        "\n",
        "# Initialize results list\n",
        "results = []\n",
        "\n",
        "# Process each file in the DataFrame\n",
        "for index, row in us_english.iterrows():\n",
        "    file_path = row['full_path']\n",
        "    ground_truth = row['sentence']\n",
        "\n",
        "    if not os.path.exists(file_path):\n",
        "        print(f\"File not found: {file_path}, skipping.\")\n",
        "        continue\n",
        "\n",
        "    print(f\"Processing {file_path}...\")\n",
        "\n",
        "    # Transcribe the audio file\n",
        "    transcription = model.transcribe(file_path)[\"text\"]\n",
        "\n",
        "    # Calculate WER and CER\n",
        "    current_wer = wer(ground_truth, transcription)\n",
        "    current_cer = cer(ground_truth, transcription)\n",
        "\n",
        "    # Append results\n",
        "    results.append({\n",
        "        \"file\": file_path,\n",
        "        \"transcription\": transcription,\n",
        "        \"ground_truth\": ground_truth,\n",
        "        \"wer\": current_wer,\n",
        "        \"cer\": current_cer,\n",
        "    })\n",
        "\n",
        "# Save results to a JSON file\n",
        "with open(\"subset_results.json\", \"w\") as f:\n",
        "    json.dump(results, f, indent=4)\n",
        "\n",
        "print(\"Processing complete. Results saved to 'subset_results.json'.\")\n"
      ]
    },
    {
      "cell_type": "code",
      "execution_count": null,
      "id": "ceb60eaa-f1e2-4670-aa35-9eec780a9616",
      "metadata": {
        "tags": [],
        "id": "ceb60eaa-f1e2-4670-aa35-9eec780a9616",
        "outputId": "d3ac3cd5-4d27-4a89-dfcd-02f0b194c5c7"
      },
      "outputs": [
        {
          "data": {
            "text/plain": [
              "3384"
            ]
          },
          "execution_count": 31,
          "metadata": {},
          "output_type": "execute_result"
        }
      ],
      "source": [
        "len(results)"
      ]
    },
    {
      "cell_type": "code",
      "execution_count": null,
      "id": "862e8ab4-1078-4525-b048-c571f4940834",
      "metadata": {
        "tags": [],
        "id": "862e8ab4-1078-4525-b048-c571f4940834",
        "outputId": "83538607-0b2c-4c6c-ad08-e7ce21e9c1f4"
      },
      "outputs": [
        {
          "name": "stdout",
          "output_type": "stream",
          "text": [
            "Average WER: 19.32%\n",
            "Average CER: 7.73%\n"
          ]
        }
      ],
      "source": [
        "# Load results\n",
        "with open(\"subset_results.json\", \"r\") as f:\n",
        "    results = json.load(f)\n",
        "\n",
        "# Convert results to a DataFrame\n",
        "results_df = pd.DataFrame(results)\n",
        "\n",
        "# Calculate average WER and CER\n",
        "average_wer = results_df['wer'].mean()\n",
        "average_cer = results_df['cer'].mean()\n",
        "\n",
        "print(f\"Average WER: {average_wer:.2%}\")\n",
        "print(f\"Average CER: {average_cer:.2%}\")\n"
      ]
    },
    {
      "cell_type": "code",
      "execution_count": null,
      "id": "b823ad08-2f56-4f2a-8dc8-b1e055f1d9df",
      "metadata": {
        "tags": [],
        "id": "b823ad08-2f56-4f2a-8dc8-b1e055f1d9df",
        "outputId": "087f0639-5647-4229-f69c-a6fb6c3e8114"
      },
      "outputs": [
        {
          "name": "stdout",
          "output_type": "stream",
          "text": [
            "Mean WER for female speakers: 20.65%\n",
            "Mean CER for female speakers: 8.17%\n",
            "\n",
            "Mean WER for male speakers: 13.38%\n",
            "Mean CER for male speakers: 3.82%\n"
          ]
        }
      ],
      "source": [
        "f_index = \"C:/Users/ral/Desktop/data120/cv-corpus-19.0-delta-2024-09-13-en/cv-corpus-19.0-delta-2024-09-13/en/clips/\" + us_english[us_english.gender == \"female_feminine\"].path\n",
        "m_index = \"C:/Users/ral/Desktop/data120/cv-corpus-19.0-delta-2024-09-13-en/cv-corpus-19.0-delta-2024-09-13/en/clips/\" + us_english[us_english.gender == \"male_masculine\"].path\n",
        "\n",
        "results_female = results_df[results_df['file'].isin(f_index)]\n",
        "results_male = results_df[results_df['file'].isin(m_index)]\n",
        "\n",
        "mean_wer = results_female['wer'].mean()\n",
        "mean_cer = results_female['cer'].mean()\n",
        "\n",
        "print(f\"Mean WER for female speakers: {mean_wer:.2%}\")\n",
        "print(f\"Mean CER for female speakers: {mean_cer:.2%}\")\n",
        "\n",
        "mean_wer = results_male['wer'].mean()\n",
        "mean_cer = results_male['cer'].mean()\n",
        "\n",
        "print(f\"\\nMean WER for male speakers: {mean_wer:.2%}\")\n",
        "print(f\"Mean CER for male speakers: {mean_cer:.2%}\")"
      ]
    },
    {
      "cell_type": "code",
      "execution_count": null,
      "id": "40c20a86-e071-41a1-8992-a473cd92b4f2",
      "metadata": {
        "id": "40c20a86-e071-41a1-8992-a473cd92b4f2"
      },
      "outputs": [],
      "source": []
    }
  ],
  "metadata": {
    "kernelspec": {
      "display_name": "Python 3 (ipykernel)",
      "language": "python",
      "name": "python3"
    },
    "language_info": {
      "codemirror_mode": {
        "name": "ipython",
        "version": 3
      },
      "file_extension": ".py",
      "mimetype": "text/x-python",
      "name": "python",
      "nbconvert_exporter": "python",
      "pygments_lexer": "ipython3",
      "version": "3.11.5"
    },
    "colab": {
      "provenance": [],
      "include_colab_link": true
    }
  },
  "nbformat": 4,
  "nbformat_minor": 5
}